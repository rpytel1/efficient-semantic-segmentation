{
 "cells": [
  {
   "cell_type": "code",
   "execution_count": 1,
   "metadata": {
    "collapsed": true,
    "pycharm": {
     "is_executing": false
    }
   },
   "outputs": [],
   "source": [
    "%reload_ext autoreload\n",
    "%autoreload 2\n",
    "%matplotlib inline"
   ]
  },
  {
   "cell_type": "code",
   "execution_count": 2,
   "outputs": [],
   "source": [
    "from utils.databunch import *"
   ],
   "metadata": {
    "collapsed": false,
    "pycharm": {
     "name": "#%%\n",
     "is_executing": false
    }
   }
  },
  {
   "cell_type": "code",
   "execution_count": 3,
   "outputs": [],
   "source": [
    "base_dir = \"data/minicity\"\n",
    "test_dir = \"data/cityspaces\""
   ],
   "metadata": {
    "collapsed": false,
    "pycharm": {
     "name": "#%%\n",
     "is_executing": false
    }
   }
  },
  {
   "cell_type": "code",
   "execution_count": 4,
   "outputs": [],
   "source": [
    "databunch = get_databunch(base_dir, bs=1)"
   ],
   "metadata": {
    "collapsed": false,
    "pycharm": {
     "name": "#%%\n",
     "is_executing": false
    }
   }
  },
  {
   "cell_type": "code",
   "execution_count": 5,
   "outputs": [],
   "source": [
    "labels_cnt = {}\n",
    "sum = 0\n",
    "for i, data in enumerate(databunch.train_dl):\n",
    "    y = data[1]\n",
    "    labels = np.squeeze(y.cpu().numpy())\n",
    "    for x in np.nditer(labels):\n",
    "        label = int(x)\n",
    "        if label not in labels_cnt:\n",
    "            labels_cnt[label] = 1\n",
    "        else:\n",
    "            labels_cnt[label] = labels_cnt[label] + 1\n",
    "        sum += 1"
   ],
   "metadata": {
    "collapsed": false,
    "pycharm": {
     "name": "#%%\n",
     "is_executing": false
    }
   }
  },
  {
   "cell_type": "code",
   "execution_count": 8,
   "outputs": [],
   "source": [
    "labels_cnt[2] = 5000\n",
    "labels_cnt[3] = 5000\n",
    "  "
   ],
   "metadata": {
    "collapsed": false,
    "pycharm": {
     "name": "#%%\n",
     "is_executing": false
    }
   }
  },
  {
   "cell_type": "code",
   "execution_count": 9,
   "outputs": [
    {
     "data": {
      "text/plain": "OrderedDict([(0, 2686),\n             (1, 311484),\n             (2, 5000),\n             (3, 5000),\n             (4, 967520),\n             (5, 201363),\n             (6, 531203),\n             (7, 23982900),\n             (8, 3103328),\n             (9, 341964),\n             (10, 253088),\n             (11, 10901899),\n             (12, 255766),\n             (13, 363648),\n             (14, 32169),\n             (15, 171576),\n             (16, 35090),\n             (17, 754203),\n             (18, 12261),\n             (19, 106741),\n             (20, 318581),\n             (21, 8550137),\n             (22, 578842),\n             (23, 1284294),\n             (24, 951921),\n             (25, 110249),\n             (26, 4183808),\n             (27, 193072),\n             (28, 68803),\n             (29, 6898),\n             (30, 5781),\n             (31, 31904),\n             (32, 59657),\n             (33, 309564)])"
     },
     "metadata": {},
     "output_type": "execute_result",
     "execution_count": 9
    }
   ],
   "source": [
    "labels_cnt = collections.OrderedDict(sorted(labels_cnt.items()))\n",
    "labels_cnt"
   ],
   "metadata": {
    "collapsed": false,
    "pycharm": {
     "name": "#%%\n",
     "is_executing": false
    }
   }
  },
  {
   "cell_type": "code",
   "execution_count": 10,
   "outputs": [
    {
     "data": {
      "text/plain": "34"
     },
     "metadata": {},
     "output_type": "execute_result",
     "execution_count": 10
    }
   ],
   "source": [
    "len(labels_cnt)"
   ],
   "metadata": {
    "collapsed": false,
    "pycharm": {
     "name": "#%%\n",
     "is_executing": false
    }
   }
  },
  {
   "cell_type": "code",
   "execution_count": 11,
   "outputs": [],
   "source": [
    "weights = np.zeros(len(labels_cnt))\n",
    "max_cnt = 0\n",
    "i = 0\n",
    "for key, value in labels_cnt.items():\n",
    "    if value > max_cnt:\n",
    "        max_cnt = value\n",
    "    weights[i] = value\n",
    "    i += 1"
   ],
   "metadata": {
    "collapsed": false,
    "pycharm": {
     "name": "#%%\n",
     "is_executing": false
    }
   }
  },
  {
   "cell_type": "code",
   "execution_count": 12,
   "outputs": [],
   "source": [
    "weights = weights * (1/max_cnt)"
   ],
   "metadata": {
    "collapsed": false,
    "pycharm": {
     "name": "#%%\n",
     "is_executing": false
    }
   }
  },
  {
   "cell_type": "code",
   "execution_count": 13,
   "outputs": [],
   "source": [
    "weights_final = [str(int(1/x)) for x in weights]"
   ],
   "metadata": {
    "collapsed": false,
    "pycharm": {
     "name": "#%%\n",
     "is_executing": false
    }
   }
  },
  {
   "cell_type": "code",
   "execution_count": 14,
   "outputs": [],
   "source": [
    "with open('utils/weights.txt','w') as f:\n",
    "  f.write('\\n'.join(weights_final))\n",
    "\n",
    "\n"
   ],
   "metadata": {
    "collapsed": false,
    "pycharm": {
     "name": "#%%\n",
     "is_executing": false
    }
   }
  }
 ],
 "metadata": {
  "kernelspec": {
   "display_name": "Python 3",
   "language": "python",
   "name": "python3"
  },
  "language_info": {
   "codemirror_mode": {
    "name": "ipython",
    "version": 2
   },
   "file_extension": ".py",
   "mimetype": "text/x-python",
   "name": "python",
   "nbconvert_exporter": "python",
   "pygments_lexer": "ipython2",
   "version": "2.7.6"
  },
  "pycharm": {
   "stem_cell": {
    "cell_type": "raw",
    "source": [],
    "metadata": {
     "collapsed": false
    }
   }
  }
 },
 "nbformat": 4,
 "nbformat_minor": 0
}